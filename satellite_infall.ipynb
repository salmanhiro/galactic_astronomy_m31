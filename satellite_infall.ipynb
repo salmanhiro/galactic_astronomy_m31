{
 "cells": [
  {
   "cell_type": "markdown",
   "id": "65ba8472-8cb0-4ce6-aad0-95c841ba3210",
   "metadata": {},
   "source": [
    "# AGAMA satellite infall simulation"
   ]
  },
  {
   "cell_type": "code",
   "execution_count": null,
   "id": "10bb8388-1a4d-4455-b275-33268777d59c",
   "metadata": {},
   "outputs": [],
   "source": [
    "import numpy as np\n",
    "import matplotlib.pyplot as plt\n",
    "import agama\n",
    "\n",
    "# Define NFW halo potential for M31-like galaxy\n",
    "halo = agama.Potential(type=\"NFW\", mass=1.2e12, scaleRadius=90.0) # \n",
    "\n",
    "# Simulation parameters\n",
    "n_steps = 500\n",
    "t_end = 10.0  # Gyr\n",
    "R_half_fixed = 0.5  # kpc, fixed half-light radius\n",
    "\n",
    "# Define masses to test\n",
    "masses = [1e5, 5e5, 1e6, 5e6, 1e7]\n",
    "results = {}\n",
    "\n",
    "# Time array\n",
    "time_arr = np.linspace(0, t_end, n_steps)\n",
    "\n",
    "# Run simulation\n",
    "for M_sat in masses:\n",
    "    M_init = M_sat  # Save original mass for labeling\n",
    "    init_cond = [[40, 0, 0, 0, 90, 0]]  # [x, y, z, vx, vy, vz]\n",
    "    traj = agama.orbit(potential=halo, ic=init_cond, time=t_end, trajsize=n_steps)\n",
    "    times, traj_array = traj[0]\n",
    "\n",
    "    tidal_r = []\n",
    "    survived_mass = []\n",
    "\n",
    "    for i in range(n_steps):\n",
    "        x, y, z = traj_array[i, :3]\n",
    "        R = np.sqrt(x**2 + y**2 + z**2)\n",
    "        M_enc = halo.enclosedMass(R)\n",
    "        r_t = R * (M_sat / (3 * M_enc))**(1/3)\n",
    "        tidal_r.append(r_t)\n",
    "\n",
    "        if r_t < R_half_fixed:\n",
    "            M_sat *= 0.99  # lose 1% per step when disrupted\n",
    "        survived_mass.append(M_sat)\n",
    "\n",
    "    results[f\"{int(M_init):.0e}\"] = {\n",
    "        \"mass\": np.array(survived_mass),\n",
    "        \"mass_frac\": np.array(survived_mass) / M_init,\n",
    "        \"time\": times\n",
    "    }\n",
    "\n",
    "# Plotting: two subplots with shared x-axis\n",
    "fig, (ax1, ax2) = plt.subplots(2, 1, figsize=(8, 7), sharex=True)\n",
    "\n",
    "for label, data in results.items():\n",
    "    ax1.plot(data[\"time\"], data[\"mass\"], label=f\"$M_{{\\\\rm sat}} = {label} M_\\\\odot$\")\n",
    "    ax2.plot(data[\"time\"], data[\"mass_frac\"], linestyle=\"--\")\n",
    "\n",
    "ax1.set_ylabel(\"Surviving Mass ($M_\\\\odot$)\")\n",
    "ax1.set_yscale(\"log\")\n",
    "ax1.set_title(\"Tidal Stripping and Mass Loss of M31 Satellite Galaxies\")\n",
    "ax1.grid(True, which=\"both\", ls=\"--\", alpha=0.5)\n",
    "ax1.legend()\n",
    "\n",
    "ax2.set_xlabel(\"Time (Gyr)\")\n",
    "ax2.set_ylabel(\"Surviving Mass Fraction\")\n",
    "ax2.grid(True, which=\"both\", ls=\"--\", alpha=0.5)\n",
    "\n",
    "plt.tight_layout()\n",
    "plt.show()\n"
   ]
  },
  {
   "cell_type": "code",
   "execution_count": null,
   "id": "9cc866e2-9249-4aeb-81ee-1c06f25e7577",
   "metadata": {},
   "outputs": [],
   "source": []
  }
 ],
 "metadata": {
  "kernelspec": {
   "display_name": "Python 3 (ipykernel)",
   "language": "python",
   "name": "python3"
  },
  "language_info": {
   "codemirror_mode": {
    "name": "ipython",
    "version": 3
   },
   "file_extension": ".py",
   "mimetype": "text/x-python",
   "name": "python",
   "nbconvert_exporter": "python",
   "pygments_lexer": "ipython3",
   "version": "3.11.5"
  }
 },
 "nbformat": 4,
 "nbformat_minor": 5
}
